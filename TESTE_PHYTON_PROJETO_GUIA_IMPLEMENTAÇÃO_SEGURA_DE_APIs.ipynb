{
  "nbformat": 4,
  "nbformat_minor": 0,
  "metadata": {
    "colab": {
      "provenance": []
    },
    "kernelspec": {
      "name": "python3",
      "display_name": "Python 3"
    },
    "language_info": {
      "name": "python"
    }
  },
  "cells": [
    {
      "cell_type": "markdown",
      "source": [
        "**Backlog**\n",
        "- [ ] Teste com API Empresa já existente;\n",
        "- [ ] Colocar mais elementos de validação: WAF, rate Limit, e CORS;\n",
        "- [ ]"
      ],
      "metadata": {
        "id": "5I9RNkZx90QZ"
      }
    },
    {
      "cell_type": "code",
      "execution_count": 3,
      "metadata": {
        "colab": {
          "base_uri": "https://localhost:8080/"
        },
        "id": "F7rHUlzjwfXQ",
        "outputId": "1d7cd530-a9aa-4602-83e1-009edb94ffbc"
      },
      "outputs": [
        {
          "output_type": "stream",
          "name": "stdout",
          "text": [
            "\n",
            "🔍 Validando API: "",
            "✅ Criptografia em trânsito: HTTPS detectado\n",
            "⚠️ Autenticação: Header 'Authorization' ausente ou não informado\n",
            "🔎 Tipo de API: Tipo não identificado com precisão\n"
          ]
        }
      ],
      "source": [
        "import requests\n",
        "\n",
        "def validar_api(url, headers=None):\n",
        "    print(f\"\\n🔍 Validando API: {url}\")\n",
        "\n",
        "    # 1. Verifica criptografia em trânsito (HTTPS)\n",
        "    if url.startswith(\"https://\"):\n",
        "        print(\" Criptografia em trânsito: HTTPS detectado\")\n",
        "    else:\n",
        "        print(\"❌ Criptografia em trânsito: URL não usa HTTPS\")\n",
        "\n",
        "    # 2. Verifica autenticação\n",
        "    if headers and \"Authorization\" in headers:\n",
        "        print(\" Autenticação: Header 'Authorization' presente\")\n",
        "    else:\n",
        "        print(\" Autenticação: Header 'Authorization' ausente ou não informado\")\n",
        "\n",
        "    # 3. Tipo da API (REST ou GraphQL Web, SOAP, Hardware ou Plataforma — simples heurística)\n",
        "    try:\n",
        "        resp = requests.get(url, headers=headers, timeout=5)\n",
        "        content_type = resp.headers.get(\"Content-Type\", \"\")\n",
        "\n",
        "        if \"/graphql\" in url or \"graphql\" in resp.text.lower():\n",
        "            print(\"🔎 Tipo de API: Possivelmente GraphQL\")\n",
        "        elif \"application/json\" in content_type:\n",
        "            print(\"🔎 Tipo de API: Possivelmente REST (JSON)\")\n",
        "        else:\n",
        "            print(\"🔎 Tipo de API: Tipo não identificado com precisão\")\n",
        "    except Exception as e:\n",
        "        print(f\"❌ Erro ao acessar a API: {e}\")\n",
        "\n",
        "# 🔧 EXEMPLO DE USO\n",
        "url_da_api = \"\"\n",
        "headers = {\n",
        "    # Exemplo de autenticação\n",
        "    # \"Authorization\": \"Bearer SEU_TOKEN_AQUI\"\n",
        "}\n",
        "\n",
        "validar_api(url_da_api, headers)"
      ]
    },
    {
      "cell_type": "code",
      "source": [
        "import requests\n",
        "\n",
        "# Endpoint da API pública\n",
        "url = \"\"\n",
        "\n",
        "# Fazendo a requisição GET\n",
        "response = requests.get(url)\n",
        "\n",
        "# Verificando se a requisição foi bem-sucedida\n",
        "if response.status_code == 200:\n",
        "    dados = response.json()  # Converte de JSON para dicionário/lista\n",
        "    print(\"📄 Primeiros 3 posts da API:\\n\")\n",
        "    for post in dados[:3]:  # Mostra só os 3 primeiros\n",
        "        print(f\"ID: {post['id']}\")\n",
        "        print(f\"Título: {post['title']}\")\n",
        "        print(f\"Conteúdo: {post['body']}\\n\")\n",
        "else:\n",
        "    print(f\"❌ Erro ao acessar a API. Código: {response.status_code}\")\n"
      ],
      "metadata": {
        "colab": {
          "base_uri": "https://localhost:8080/"
        },
        "id": "ikwTd_4W5twR",
        "outputId": "76851538-85e0-4856-e81b-1a72b95b1042"
      },
      "execution_count": 13,
      "outputs": [
        {
          "output_type": "stream",
          "name": "stdout",
          "text": [
            "❌ Erro ao acessar a API. Código: 405\n"
          ]
        }
      ]
    },
    {
      "cell_type": "code",
      "source": [
        "# Instale se necessário\n",
        "!pip install requests\n",
        "\n",
        "import requests\n",
        "from urllib.parse import urlparse\n",
        "\n",
        "# Campo para o usuário inserir a URL da API a ser testada\n",
        "api_url = \"\"  # Troque aqui pela URL da sua API\n",
        "\n",
        "# Função para verificar HTTPS (criptografia em trânsito)\n",
        "def check_https(url):\n",
        "    return urlparse(url).scheme == \"https\"\n",
        "\n",
        "# Função para identificar tipo de autenticação via headers\n",
        "def check_auth(headers):\n",
        "    auth_header = headers.get(\"www-authenticate\", \"\")\n",
        "    if \"bearer\" in auth_header.lower():\n",
        "        return \"OAuth 2.0 / JWT\"\n",
        "    elif \"basic\" in auth_header.lower():\n",
        "        return \"Basic Auth\"\n",
        "    return \"Não identificado\"\n",
        "\n",
        "# Função para tentar identificar tipo da API por headers ou comportamento\n",
        "def identify_api_type(resp):\n",
        "    content_type = resp.headers.get(\"Content-Type\", \"\")\n",
        "    if \"application/graphql\" in content_type:\n",
        "        return \"GraphQL\"\n",
        "    elif \"application/soap+xml\" in content_type or \"text/xml\" in content_type:\n",
        "        return \"SOAP\"\n",
        "    elif \"application/json\" in content_type:\n",
        "        return \"Provavelmente REST\"\n",
        "    elif \"application/rpc\" in content_type:\n",
        "        return \"RPC\"\n",
        "    else:\n",
        "        return \"Tipo indefinido ou Web Genérica\"\n",
        "\n",
        "# Verifica se tem headers comuns de WAF\n",
        "def detect_waf(headers):\n",
        "    waf_headers = [\"x-sucuri-id\", \"x-waf-event\", \"x-fireeye\", \"cf-ray\", \"x-akamai-transformed\"]\n",
        "    for h in waf_headers:\n",
        "        if h in headers:\n",
        "            return f\"Sim (detectado header: {h})\"\n",
        "    return \"Não identificado\"\n",
        "\n",
        "# Verifica se há rate limit pelos headers\n",
        "def check_rate_limit(headers):\n",
        "    rate_headers = [\"x-rate-limit-limit\", \"x-ratelimit-limit\", \"retry-after\"]\n",
        "    for h in rate_headers:\n",
        "        if h in headers:\n",
        "            return f\"Sim (detectado header: {h})\"\n",
        "    return \"Não identificado\"\n",
        "\n",
        "# Faz a requisição e exibe os resultados\n",
        "try:\n",
        "    response = requests.get(api_url)\n",
        "    print(f\" HTTPS Ativado: {'Sim' if check_https(api_url) else 'Não'}\")\n",
        "    print(f\" Autenticação Identificada: {check_auth(response.headers)}\")\n",
        "    print(f\" Tipo de API: {identify_api_type(response)}\")\n",
        "    print(f\" WAF Detectado: {detect_waf(response.headers)}\")\n",
        "    print(f\" Rate Limiting: {check_rate_limit(response.headers)}\")\n",
        "    print(f\"\\n Headers recebidos:\\n{response.headers}\")\n",
        "except Exception as e:\n",
        "    print(f\"Erro ao testar a API: {e}\")\n"
      ],
      "metadata": {
        "colab": {
          "base_uri": "https://localhost:8080/"
        },
        "id": "AS7-sW4989OI",
        "outputId": "26f0cb68-81ff-49c7-daac-770f3e320aa0"
      },
      "execution_count": 16,
      "outputs": [
        {
          "output_type": "stream",
          "name": "stdout",
          "text": [
            "Requirement already satisfied: requests in /usr/local/lib/python3.11/dist-packages (2.32.3)\n",
            "Requirement already satisfied: charset-normalizer<4,>=2 in /usr/local/lib/python3.11/dist-packages (from requests) (3.4.2)\n",
            "Requirement already satisfied: idna<4,>=2.5 in /usr/local/lib/python3.11/dist-packages (from requests) (3.10)\n",
            "Requirement already satisfied: urllib3<3,>=1.21.1 in /usr/local/lib/python3.11/dist-packages (from requests) (2.5.0)\n",
            "Requirement already satisfied: certifi>=2017.4.17 in /usr/local/lib/python3.11/dist-packages (from requests) (2025.7.14)\n",
            " HTTPS Ativado: Sim\n",
            " Autenticação Identificada: Não identificado\n",
            " Tipo de API: Tipo indefinido ou Web Genérica\n",
            " WAF Detectado: Não identificado\n",
            " Rate Limiting: Não identificado\n",
            "\n",
            " Headers recebidos:\n",
            "{'Server': 'nginx', 'Content-Type': 'text/html; charset=UTF-8', 'Transfer-Encoding': 'chunked', 'Connection': 'keep-alive', 'Keep-Alive': 'timeout=300', 'Cache-Control': 'no-cache, private', 'Date': 'Fri, 25 Jul 2025 14:25:52 GMT', 'Access-Control-Allow-Origin': '*', 'Strict-Transport-Security': 'max-age=63072000; includeSubDomains; preload'}\n"
          ]
        }
      ]
    },
    {
      "cell_type": "code",
      "source": [],
      "metadata": {
        "id": "0jr1a3gB9CtE"
      },
      "execution_count": null,
      "outputs": []
    }
  ]
}
